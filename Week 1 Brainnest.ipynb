{
 "cells": [
  {
   "cell_type": "code",
   "execution_count": 27,
   "id": "cc7d3638-3f2f-4c08-9fba-e13e7a57ada7",
   "metadata": {},
   "outputs": [],
   "source": [
    "import pandas as pd\n",
    "import numpy as np"
   ]
  },
  {
   "cell_type": "code",
   "execution_count": 28,
   "id": "79af11c7-9306-498d-9f24-2bf908112eb9",
   "metadata": {},
   "outputs": [
    {
     "name": "stdout",
     "output_type": "stream",
     "text": [
      "Active code page: 1252\n",
      "Requirement already satisfied: pyreadstat in c:\\users\\sihan\\anaconda3\\lib\\site-packages (1.1.9)\n",
      "Requirement already satisfied: pandas>=1.2.0 in c:\\users\\sihan\\anaconda3\\lib\\site-packages (from pyreadstat) (1.4.2)\n",
      "Requirement already satisfied: numpy>=1.18.5 in c:\\users\\sihan\\anaconda3\\lib\\site-packages (from pandas>=1.2.0->pyreadstat) (1.21.5)\n",
      "Requirement already satisfied: python-dateutil>=2.8.1 in c:\\users\\sihan\\anaconda3\\lib\\site-packages (from pandas>=1.2.0->pyreadstat) (2.8.2)\n",
      "Requirement already satisfied: pytz>=2020.1 in c:\\users\\sihan\\anaconda3\\lib\\site-packages (from pandas>=1.2.0->pyreadstat) (2021.3)\n",
      "Requirement already satisfied: six>=1.5 in c:\\users\\sihan\\anaconda3\\lib\\site-packages (from python-dateutil>=2.8.1->pandas>=1.2.0->pyreadstat) (1.16.0)\n"
     ]
    }
   ],
   "source": [
    "!pip install pyreadstat"
   ]
  },
  {
   "cell_type": "code",
   "execution_count": 29,
   "id": "22fbc59a-8943-4841-9f82-c1061fce6d57",
   "metadata": {},
   "outputs": [],
   "source": [
    "import pyreadstat\n",
    "\n",
    "#this helps in reading spss sav files"
   ]
  },
  {
   "cell_type": "code",
   "execution_count": 30,
   "id": "7e77d2ff-ca3a-419c-80cd-6102cf5325e9",
   "metadata": {},
   "outputs": [],
   "source": [
    "df, meta = pyreadstat.read_sav('Birthweight_reduced_kg_SPSS.sav') \n",
    "#meta is the way of giving data to the dataframe through pyreadstat"
   ]
  },
  {
   "cell_type": "code",
   "execution_count": 31,
   "id": "2326ba61-7e3f-446c-9fe8-f76bbbeafc86",
   "metadata": {},
   "outputs": [
    {
     "data": {
      "text/html": [
       "<div>\n",
       "<style scoped>\n",
       "    .dataframe tbody tr th:only-of-type {\n",
       "        vertical-align: middle;\n",
       "    }\n",
       "\n",
       "    .dataframe tbody tr th {\n",
       "        vertical-align: top;\n",
       "    }\n",
       "\n",
       "    .dataframe thead th {\n",
       "        text-align: right;\n",
       "    }\n",
       "</style>\n",
       "<table border=\"1\" class=\"dataframe\">\n",
       "  <thead>\n",
       "    <tr style=\"text-align: right;\">\n",
       "      <th></th>\n",
       "      <th>ID</th>\n",
       "      <th>Headcirc</th>\n",
       "      <th>Length</th>\n",
       "      <th>Birthweight</th>\n",
       "      <th>Gestation</th>\n",
       "      <th>mage</th>\n",
       "      <th>smoker</th>\n",
       "      <th>mheight</th>\n",
       "      <th>mppwt</th>\n",
       "      <th>fage</th>\n",
       "      <th>fedyrs</th>\n",
       "      <th>fnocig</th>\n",
       "      <th>fheight</th>\n",
       "      <th>lowbwt</th>\n",
       "      <th>mage35</th>\n",
       "      <th>mnocig</th>\n",
       "    </tr>\n",
       "  </thead>\n",
       "  <tbody>\n",
       "    <tr>\n",
       "      <th>0</th>\n",
       "      <td>1360.0</td>\n",
       "      <td>34.0</td>\n",
       "      <td>56.0</td>\n",
       "      <td>4.55</td>\n",
       "      <td>44.0</td>\n",
       "      <td>20.0</td>\n",
       "      <td>0.0</td>\n",
       "      <td>162.0</td>\n",
       "      <td>57.0</td>\n",
       "      <td>23.0</td>\n",
       "      <td>10.0</td>\n",
       "      <td>35.0</td>\n",
       "      <td>179.0</td>\n",
       "      <td>0.0</td>\n",
       "      <td>0.0</td>\n",
       "      <td>0.0</td>\n",
       "    </tr>\n",
       "    <tr>\n",
       "      <th>1</th>\n",
       "      <td>1016.0</td>\n",
       "      <td>36.0</td>\n",
       "      <td>53.0</td>\n",
       "      <td>4.32</td>\n",
       "      <td>40.0</td>\n",
       "      <td>19.0</td>\n",
       "      <td>0.0</td>\n",
       "      <td>171.0</td>\n",
       "      <td>62.0</td>\n",
       "      <td>19.0</td>\n",
       "      <td>12.0</td>\n",
       "      <td>0.0</td>\n",
       "      <td>183.0</td>\n",
       "      <td>0.0</td>\n",
       "      <td>0.0</td>\n",
       "      <td>0.0</td>\n",
       "    </tr>\n",
       "    <tr>\n",
       "      <th>2</th>\n",
       "      <td>462.0</td>\n",
       "      <td>39.0</td>\n",
       "      <td>58.0</td>\n",
       "      <td>4.10</td>\n",
       "      <td>41.0</td>\n",
       "      <td>35.0</td>\n",
       "      <td>0.0</td>\n",
       "      <td>172.0</td>\n",
       "      <td>58.0</td>\n",
       "      <td>31.0</td>\n",
       "      <td>16.0</td>\n",
       "      <td>25.0</td>\n",
       "      <td>185.0</td>\n",
       "      <td>0.0</td>\n",
       "      <td>1.0</td>\n",
       "      <td>0.0</td>\n",
       "    </tr>\n",
       "    <tr>\n",
       "      <th>3</th>\n",
       "      <td>1187.0</td>\n",
       "      <td>38.0</td>\n",
       "      <td>53.0</td>\n",
       "      <td>4.07</td>\n",
       "      <td>44.0</td>\n",
       "      <td>20.0</td>\n",
       "      <td>0.0</td>\n",
       "      <td>174.0</td>\n",
       "      <td>68.0</td>\n",
       "      <td>26.0</td>\n",
       "      <td>14.0</td>\n",
       "      <td>25.0</td>\n",
       "      <td>189.0</td>\n",
       "      <td>0.0</td>\n",
       "      <td>0.0</td>\n",
       "      <td>0.0</td>\n",
       "    </tr>\n",
       "    <tr>\n",
       "      <th>4</th>\n",
       "      <td>553.0</td>\n",
       "      <td>37.0</td>\n",
       "      <td>54.0</td>\n",
       "      <td>3.94</td>\n",
       "      <td>42.0</td>\n",
       "      <td>24.0</td>\n",
       "      <td>0.0</td>\n",
       "      <td>175.0</td>\n",
       "      <td>66.0</td>\n",
       "      <td>30.0</td>\n",
       "      <td>12.0</td>\n",
       "      <td>0.0</td>\n",
       "      <td>184.0</td>\n",
       "      <td>0.0</td>\n",
       "      <td>0.0</td>\n",
       "      <td>0.0</td>\n",
       "    </tr>\n",
       "  </tbody>\n",
       "</table>\n",
       "</div>"
      ],
      "text/plain": [
       "       ID  Headcirc  Length  Birthweight  Gestation  mage  smoker  mheight  \\\n",
       "0  1360.0      34.0    56.0         4.55       44.0  20.0     0.0    162.0   \n",
       "1  1016.0      36.0    53.0         4.32       40.0  19.0     0.0    171.0   \n",
       "2   462.0      39.0    58.0         4.10       41.0  35.0     0.0    172.0   \n",
       "3  1187.0      38.0    53.0         4.07       44.0  20.0     0.0    174.0   \n",
       "4   553.0      37.0    54.0         3.94       42.0  24.0     0.0    175.0   \n",
       "\n",
       "   mppwt  fage  fedyrs  fnocig  fheight  lowbwt  mage35  mnocig  \n",
       "0   57.0  23.0    10.0    35.0    179.0     0.0     0.0     0.0  \n",
       "1   62.0  19.0    12.0     0.0    183.0     0.0     0.0     0.0  \n",
       "2   58.0  31.0    16.0    25.0    185.0     0.0     1.0     0.0  \n",
       "3   68.0  26.0    14.0    25.0    189.0     0.0     0.0     0.0  \n",
       "4   66.0  30.0    12.0     0.0    184.0     0.0     0.0     0.0  "
      ]
     },
     "execution_count": 31,
     "metadata": {},
     "output_type": "execute_result"
    }
   ],
   "source": [
    "df.head()"
   ]
  },
  {
   "cell_type": "code",
   "execution_count": 32,
   "id": "db7f71db-19be-4333-87db-fdaeade71273",
   "metadata": {},
   "outputs": [
    {
     "data": {
      "text/plain": [
       "Index(['ID', 'Headcirc', 'Length', 'Birthweight', 'Gestation', 'mage',\n",
       "       'smoker', 'mheight', 'mppwt', 'fage', 'fedyrs', 'fnocig', 'fheight',\n",
       "       'lowbwt', 'mage35', 'mnocig'],\n",
       "      dtype='object')"
      ]
     },
     "execution_count": 32,
     "metadata": {},
     "output_type": "execute_result"
    }
   ],
   "source": [
    "df.columns"
   ]
  },
  {
   "cell_type": "code",
   "execution_count": 33,
   "id": "0836c327-fd3d-4a72-bd22-171a1c514101",
   "metadata": {},
   "outputs": [],
   "source": [
    "#Q1. What is the mean birth weight for babies of non-smoking mothers?"
   ]
  },
  {
   "cell_type": "code",
   "execution_count": 34,
   "id": "4df13c17-00ff-4d4c-8fc8-0144ee0afe8b",
   "metadata": {},
   "outputs": [
    {
     "data": {
      "text/plain": [
       "3.5095000000000005"
      ]
     },
     "execution_count": 34,
     "metadata": {},
     "output_type": "execute_result"
    }
   ],
   "source": [
    "df.loc[df['smoker'] == 0.0, 'Birthweight'].mean()"
   ]
  },
  {
   "cell_type": "code",
   "execution_count": 35,
   "id": "375a5e76-0d26-4dec-84e5-035e6af9b959",
   "metadata": {},
   "outputs": [],
   "source": [
    "#Q2. What is the mean birth weight for babies of smoking mothers?"
   ]
  },
  {
   "cell_type": "code",
   "execution_count": 36,
   "id": "1fca4632-426a-4856-89cd-b2c0a2aaec40",
   "metadata": {},
   "outputs": [],
   "source": [
    "#Q2. What is the mean birth weight for babies of smoking mothers"
   ]
  },
  {
   "cell_type": "code",
   "execution_count": 37,
   "id": "864e28cd-8a8e-4de2-86cd-cdf613476d2d",
   "metadata": {},
   "outputs": [
    {
     "data": {
      "text/plain": [
       "3.1340909090909093"
      ]
     },
     "execution_count": 37,
     "metadata": {},
     "output_type": "execute_result"
    }
   ],
   "source": [
    "df.loc[df['smoker'] == 1.0, 'Birthweight'].mean()"
   ]
  },
  {
   "cell_type": "code",
   "execution_count": 38,
   "id": "0bf128c7-f10e-4e73-a737-1b8c811e1a2e",
   "metadata": {},
   "outputs": [],
   "source": [
    "#Q3. What is the mean head circumference for babies of non-smoking mothers"
   ]
  },
  {
   "cell_type": "code",
   "execution_count": 39,
   "id": "946c162c-2a0e-40b2-b0dd-c48a67eeb70d",
   "metadata": {},
   "outputs": [
    {
     "data": {
      "text/plain": [
       "35.05"
      ]
     },
     "execution_count": 39,
     "metadata": {},
     "output_type": "execute_result"
    }
   ],
   "source": [
    "df.loc[df['smoker'] == 0.0, 'Headcirc'].mean()"
   ]
  },
  {
   "cell_type": "code",
   "execution_count": 40,
   "id": "2cb18161-8688-4f02-a158-dcbb0fe09dfb",
   "metadata": {},
   "outputs": [],
   "source": [
    "#Q4. What is the mean gestational age at birth for babies of smoking mothers"
   ]
  },
  {
   "cell_type": "code",
   "execution_count": 41,
   "id": "a392e943-12c4-45eb-8d15-9378b404cd97",
   "metadata": {},
   "outputs": [
    {
     "data": {
      "text/plain": [
       "38.95454545454545"
      ]
     },
     "execution_count": 41,
     "metadata": {},
     "output_type": "execute_result"
    }
   ],
   "source": [
    "df.loc[df['smoker'] == 1.0, 'Gestation'].mean()"
   ]
  },
  {
   "cell_type": "code",
   "execution_count": 42,
   "id": "a1356137-65ca-40b4-b0e9-79bb35b1725c",
   "metadata": {},
   "outputs": [],
   "source": [
    "##Q5. What is the maximum head circumference for babies of non-smoking mothers?"
   ]
  },
  {
   "cell_type": "code",
   "execution_count": 43,
   "id": "244008e5-c174-4842-a2cb-3d908ad2db50",
   "metadata": {},
   "outputs": [
    {
     "data": {
      "text/plain": [
       "39.0"
      ]
     },
     "execution_count": 43,
     "metadata": {},
     "output_type": "execute_result"
    }
   ],
   "source": [
    "df.loc[df['smoker'] == 0.0, 'Headcirc'].max()\n"
   ]
  },
  {
   "cell_type": "code",
   "execution_count": 44,
   "id": "f87097e4-404a-4728-be3a-6b03d19ec69e",
   "metadata": {},
   "outputs": [],
   "source": [
    "#Q6. What is the minimum gestational age at birth for babies of smoking mothers?"
   ]
  },
  {
   "cell_type": "code",
   "execution_count": 45,
   "id": "48359df6-f22a-4614-9804-efc5cbfa8c61",
   "metadata": {},
   "outputs": [
    {
     "data": {
      "text/plain": [
       "33.0"
      ]
     },
     "execution_count": 45,
     "metadata": {},
     "output_type": "execute_result"
    }
   ],
   "source": [
    "df.loc[df['smoker'] == 1.0, 'Gestation'].min()"
   ]
  },
  {
   "cell_type": "code",
   "execution_count": 46,
   "id": "0f66f009-88d9-480c-88ef-0c31a846a5ac",
   "metadata": {},
   "outputs": [],
   "source": [
    "##Q7. Based on the dataset you have, out of the two, which one would be a better bet:\n",
    "##●\tPregnancy period in smoking mothers is shorter\n",
    "##●\tPregnancy period in non-smoking mothers is shorter\n"
   ]
  },
  {
   "cell_type": "code",
   "execution_count": 47,
   "id": "36ac3bf6-e1c0-4891-9614-ae7c973bf6f1",
   "metadata": {},
   "outputs": [
    {
     "name": "stdout",
     "output_type": "stream",
     "text": [
      "smoking mother preg period 38.95454545454545\n",
      "non-smoking mother preg period 39.45\n"
     ]
    }
   ],
   "source": [
    "print('smoking mother preg period', df.loc[df['smoker'] == 1.0, 'Gestation'].mean())\n",
    "print('non-smoking mother preg period', df.loc[df['smoker'] == 0.0, 'Gestation'].mean())"
   ]
  },
  {
   "cell_type": "code",
   "execution_count": 91,
   "id": "9fce4f6b-11a3-43f6-a166-532fa2952736",
   "metadata": {},
   "outputs": [],
   "source": [
    "from scipy.stats import shapiro"
   ]
  },
  {
   "cell_type": "code",
   "execution_count": 49,
   "id": "ec5d74d7-179c-42d1-b5a6-ed67b344392d",
   "metadata": {},
   "outputs": [
    {
     "data": {
      "text/plain": [
       "Index(['ID', 'Headcirc', 'Length', 'Birthweight', 'Gestation', 'mage',\n",
       "       'smoker', 'mheight', 'mppwt', 'fage', 'fedyrs', 'fnocig', 'fheight',\n",
       "       'lowbwt', 'mage35', 'mnocig'],\n",
       "      dtype='object')"
      ]
     },
     "execution_count": 49,
     "metadata": {},
     "output_type": "execute_result"
    }
   ],
   "source": [
    "df.columns"
   ]
  },
  {
   "cell_type": "code",
   "execution_count": null,
   "id": "56ad34cb-9aa2-4adc-8402-5ca1953e314c",
   "metadata": {},
   "outputs": [],
   "source": []
  },
  {
   "cell_type": "code",
   "execution_count": null,
   "id": "0b2f6514-94a6-48fd-b617-a808600a3c9e",
   "metadata": {},
   "outputs": [],
   "source": [
    "##Q8. Justify the above choice in a few words.\n",
    "#I used .mean() python function to compare between the two parameters. I believe there is a better way to identify this. \n"
   ]
  },
  {
   "cell_type": "code",
   "execution_count": 53,
   "id": "39a3fbe7-e1c9-4703-87bd-69c9d0d656a7",
   "metadata": {},
   "outputs": [],
   "source": [
    "##Q9. What is the baby birth weight range for babies of smoking mothers?"
   ]
  },
  {
   "cell_type": "code",
   "execution_count": 78,
   "id": "bfbd5556-650c-4b86-83ae-ceb69522a76e",
   "metadata": {},
   "outputs": [
    {
     "name": "stdout",
     "output_type": "stream",
     "text": [
      "range for smoker 2.6500000000000004\n"
     ]
    }
   ],
   "source": [
    "b = df.loc[df['smoker'] == 1.0, 'Birthweight'].max()\n",
    "a = df.loc[df['smoker'] == 1.0, 'Birthweight'].min()\n",
    "\n",
    "print('range for smoker', b-a)"
   ]
  },
  {
   "cell_type": "code",
   "execution_count": 77,
   "id": "49f110dd-6d03-4f45-851d-7ec0316b9277",
   "metadata": {},
   "outputs": [
    {
     "name": "stdout",
     "output_type": "stream",
     "text": [
      "range for non smoker 1.9\n"
     ]
    }
   ],
   "source": [
    "b = df.loc[df['smoker'] == 0.0, 'Birthweight'].max()\n",
    "a = df.loc[df['smoker'] == 0.0, 'Birthweight'].min()\n",
    "\n",
    "print('range for non smoker', b-a)"
   ]
  },
  {
   "cell_type": "code",
   "execution_count": 76,
   "id": "604346e7-ecf4-414b-9123-f58d0a19c815",
   "metadata": {},
   "outputs": [
    {
     "name": "stdout",
     "output_type": "stream",
     "text": [
      "min weight of babies of non-smoking mothers 2.65\n"
     ]
    }
   ],
   "source": [
    "print('min weight of babies of non-smoking mothers', df.loc[df['smoker'] == 0.0, 'Birthweight'].min())"
   ]
  },
  {
   "cell_type": "code",
   "execution_count": 74,
   "id": "a1518612-727a-493f-bbbe-3ed99fd03491",
   "metadata": {},
   "outputs": [
    {
     "name": "stdout",
     "output_type": "stream",
     "text": [
      "min weight of babies of smoking mothers 1.92\n"
     ]
    }
   ],
   "source": [
    "print('min weight of babies of smoking mothers', df.loc[df['smoker'] == 1.0, 'Birthweight'].min())"
   ]
  },
  {
   "cell_type": "code",
   "execution_count": 79,
   "id": "05052d89-44fb-4ce8-b4b8-9ba8fbafa78f",
   "metadata": {},
   "outputs": [],
   "source": [
    "from matplotlib import pyplot"
   ]
  },
  {
   "cell_type": "code",
   "execution_count": 81,
   "id": "9feb546e-1f0b-4176-9ce9-f23936a271d2",
   "metadata": {},
   "outputs": [
    {
     "data": {
      "image/png": "[encoded data removed]",
      "text/plain": [
       "<Figure size 432x288 with 1 Axes>"
      ]
     },
     "metadata": {
      "needs_background": "light"
     },
     "output_type": "display_data"
    }
   ],
   "source": [
    "#Q11. Are head circumference data for babies of smoking mothers normally distributed?\n",
    "\n",
    "pyplot.hist(df.loc[df['smoker'] == 1.0, 'Headcirc'])\n",
    "pyplot.show()"
   ]
  },
  {
   "cell_type": "code",
   "execution_count": 133,
   "id": "1d1c4fbc-ed80-4b02-84af-70bc9bb82443",
   "metadata": {},
   "outputs": [
    {
     "name": "stdout",
     "output_type": "stream",
     "text": [
      "0.0874031287718948\n"
     ]
    }
   ],
   "source": [
    "from scipy.stats import skew\n",
    "\n",
    "abcdef = df.loc[df['smoker'] == 1.0, 'Headcirc']\n",
    "\n",
    "print(skew(abcdef, axis = 0, bias = True))\n",
    "\n"
   ]
  },
  {
   "cell_type": "code",
   "execution_count": 130,
   "id": "c235645a-3c5a-47bf-860d-c466d2cdb9b6",
   "metadata": {},
   "outputs": [
    {
     "data": {
      "text/plain": [
       "ShapiroResult(statistic=0.9536523818969727, pvalue=0.3723871409893036)"
      ]
     },
     "execution_count": 130,
     "metadata": {},
     "output_type": "execute_result"
    }
   ],
   "source": [
    "from scipy.stats import shapiro\n",
    "datalnop=df.loc[df['smoker'] == 1.0, 'Headcirc']\n",
    "\n",
    "shapiro(datalnop)"
   ]
  },
  {
   "cell_type": "code",
   "execution_count": 131,
   "id": "54aecc14-660e-49d9-8c67-174ad3e75d7a",
   "metadata": {},
   "outputs": [],
   "source": [
    "stat, p = shapiro(datalnop)"
   ]
  },
  {
   "cell_type": "code",
   "execution_count": 132,
   "id": "70080e0b-7bd4-4af1-9dcf-e453d2483401",
   "metadata": {},
   "outputs": [
    {
     "name": "stdout",
     "output_type": "stream",
     "text": [
      "Statistics=0.954, p=0.372\n",
      "normally distributed\n"
     ]
    }
   ],
   "source": [
    "print('Statistics=%.3f, p=%.3f' % (stat, p))\n",
    "\n",
    "alpha = 0.05\n",
    "if p> 0.05:\n",
    "    print('normally distributed')\n",
    "else:\n",
    "    print('not normally distributed')"
   ]
  },
  {
   "cell_type": "code",
   "execution_count": 108,
   "id": "034fe9a5-012f-437e-bb88-657adb8cbcea",
   "metadata": {},
   "outputs": [
    {
     "data": {
      "text/plain": [
       "Index(['ID', 'Headcirc', 'Length', 'Birthweight', 'Gestation', 'mage',\n",
       "       'smoker', 'mheight', 'mppwt', 'fage', 'fedyrs', 'fnocig', 'fheight',\n",
       "       'lowbwt', 'mage35', 'mnocig'],\n",
       "      dtype='object')"
      ]
     },
     "execution_count": 108,
     "metadata": {},
     "output_type": "execute_result"
    }
   ],
   "source": [
    "df.columns"
   ]
  },
  {
   "cell_type": "code",
   "execution_count": 112,
   "id": "1e6df521-e5a5-4da5-b128-1a445a7df3ff",
   "metadata": {},
   "outputs": [
    {
     "name": "stdout",
     "output_type": "stream",
     "text": [
      "0.33337081912779737\n",
      "left heavy tailed skewness\n"
     ]
    }
   ],
   "source": [
    "##Q14. How are birth weight data of non-smoking mothers skewed?\n",
    "\n",
    "from scipy.stats import skew\n",
    "\n",
    "data= df.loc[df['smoker'] == 0.0, 'Birthweight']\n",
    "n=skew(data, axis = 0, bias = True)\n",
    "print(n)\n",
    "if n == 0:\n",
    "    print('normal skewness')\n",
    "elif n>0:\n",
    "    print('left heavy tailed skewness')\n",
    "else:\n",
    "    print('right heavy tailed skewness')\n",
    "        \n"
   ]
  },
  {
   "cell_type": "code",
   "execution_count": 128,
   "id": "235e7be8-5854-4118-afe9-e206aebb1fde",
   "metadata": {},
   "outputs": [
    {
     "name": "stdout",
     "output_type": "stream",
     "text": [
      "yes normally distributed statis=0.982, p=0.949\n"
     ]
    }
   ],
   "source": [
    "##Q15. Are birth weight data for babies of smoking mothers normally distributed?\n",
    "#so it is a normal distribution. \n",
    "#Our null hypothesis was that it is not a normal distribution. \n",
    "#alpha above 0.05 proved that our null hypothesis is false. \n",
    "\n",
    "from scipy.stats import shapiro\n",
    "dataxyz=df.loc[df['smoker'] == 1.0, 'Birthweight']\n",
    "stat, p = shapiro(dataxyz)\n",
    "print('yes normally distributed','statis=%.3f, p=%.3f' % (stat,p))\n",
    "\n"
   ]
  },
  {
   "cell_type": "code",
   "execution_count": 129,
   "id": "1bcd49cf-0176-4978-ace7-773a0c23174e",
   "metadata": {},
   "outputs": [
    {
     "name": "stdout",
     "output_type": "stream",
     "text": [
      "-0.05352550699279493\n"
     ]
    }
   ],
   "source": [
    "from scipy.stats import skew\n",
    "dataabcd=df['Birthweight']\n",
    "print(skew(dataabcd, axis = 0, bias = True))"
   ]
  },
  {
   "cell_type": "code",
   "execution_count": 134,
   "id": "4b266934-6f6a-41c0-80c8-9ddd7d725269",
   "metadata": {},
   "outputs": [
    {
     "data": {
      "text/plain": [
       "ShapiroResult(statistic=0.9899008274078369, pvalue=0.9684654474258423)"
      ]
     },
     "execution_count": 134,
     "metadata": {},
     "output_type": "execute_result"
    }
   ],
   "source": [
    "shapiro(dataabcd)"
   ]
  },
  {
   "cell_type": "code",
   "execution_count": 136,
   "id": "1fbdb7e9-6c84-4c77-9808-ee1e38241cc8",
   "metadata": {},
   "outputs": [
    {
     "data": {
      "text/plain": [
       "(array([2., 1., 3., 5., 9., 6., 7., 4., 2., 3.]),\n",
       " array([1.92 , 2.185, 2.45 , 2.715, 2.98 , 3.245, 3.51 , 3.775, 4.04 ,\n",
       "        4.305, 4.57 ]),\n",
       " <BarContainer object of 10 artists>)"
      ]
     },
     "execution_count": 136,
     "metadata": {},
     "output_type": "execute_result"
    },
    {
     "data": {
      "image/png": "[encoded data removed]",
      "text/plain": [
       "<Figure size 432x288 with 1 Axes>"
      ]
     },
     "metadata": {
      "needs_background": "light"
     },
     "output_type": "display_data"
    }
   ],
   "source": [
    "pyplot.hist(dataabcd)\n",
    "\n",
    "#Q17. Based on the dataset you have, how confident can you be in saying that a baby's birth weight will be +/- 1 standard deviation from the mean?"
   ]
  },
  {
   "cell_type": "code",
   "execution_count": 145,
   "id": "6b887a32-e276-4f41-84f2-1fa403b7f3ce",
   "metadata": {},
   "outputs": [],
   "source": [
    "from statistics import stdev\n",
    "st_dev=stdev(df.loc[df['smoker'] == 1.0, 'Birthweight'])"
   ]
  },
  {
   "cell_type": "code",
   "execution_count": 142,
   "id": "62d67447-2c14-4d14-8407-2feb41566693",
   "metadata": {},
   "outputs": [],
   "source": [
    "smokingmean=df.loc[df['smoker'] == 1.0, 'Birthweight'].mean()"
   ]
  },
  {
   "cell_type": "code",
   "execution_count": 143,
   "id": "678d9296-6425-4f3e-a6b1-c8fb26775bb9",
   "metadata": {},
   "outputs": [
    {
     "data": {
      "text/plain": [
       "3.1340909090909093"
      ]
     },
     "execution_count": 143,
     "metadata": {},
     "output_type": "execute_result"
    }
   ],
   "source": [
    "smokingmean"
   ]
  },
  {
   "cell_type": "code",
   "execution_count": 146,
   "id": "8871b1a5-8536-428e-afbc-f202907a7faa",
   "metadata": {},
   "outputs": [],
   "source": [
    "z=(4.2-smokingmean)/st_dev"
   ]
  },
  {
   "cell_type": "code",
   "execution_count": 147,
   "id": "1a15e638-30b6-4837-b7cb-b4f771402e1a",
   "metadata": {},
   "outputs": [
    {
     "data": {
      "text/plain": [
       "1.688576524332701"
      ]
     },
     "execution_count": 147,
     "metadata": {},
     "output_type": "execute_result"
    }
   ],
   "source": [
    "z"
   ]
  },
  {
   "cell_type": "code",
   "execution_count": null,
   "id": "7588308a-a8b0-46f8-8a1d-59ebae681046",
   "metadata": {},
   "outputs": [],
   "source": []
  }
 ],
 "metadata": {
  "kernelspec": {
   "display_name": "Python 3 (ipykernel)",
   "language": "python",
   "name": "python3"
  },
  "language_info": {
   "codemirror_mode": {
    "name": "ipython",
    "version": 3
   },
   "file_extension": ".py",
   "mimetype": "text/x-python",
   "name": "python",
   "nbconvert_exporter": "python",
   "pygments_lexer": "ipython3",
   "version": "3.9.12"
  }
 },
 "nbformat": 4,
 "nbformat_minor": 5
}
