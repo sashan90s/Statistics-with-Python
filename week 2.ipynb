{
 "cells": [
  {
   "cell_type": "raw",
   "id": "a39bbb63-b10b-42f9-b812-98adc87d733d",
   "metadata": {},
   "source": [
    "import pandas as pd\n",
    "import numpy as np"
   ]
  },
  {
   "cell_type": "code",
   "execution_count": 4,
   "id": "135405f9-9c6e-4ede-a730-d8c5ad99f2eb",
   "metadata": {},
   "outputs": [
    {
     "name": "stdout",
     "output_type": "stream",
     "text": [
      "Active code page: 1252\n",
      "Requirement already satisfied: pyreadstat in c:\\users\\sihan\\anaconda3\\lib\\site-packages (1.1.9)\n",
      "Requirement already satisfied: pandas>=1.2.0 in c:\\users\\sihan\\anaconda3\\lib\\site-packages (from pyreadstat) (1.4.3)\n",
      "Requirement already satisfied: numpy>=1.18.5 in c:\\users\\sihan\\anaconda3\\lib\\site-packages (from pandas>=1.2.0->pyreadstat) (1.21.5)\n",
      "Requirement already satisfied: pytz>=2020.1 in c:\\users\\sihan\\anaconda3\\lib\\site-packages (from pandas>=1.2.0->pyreadstat) (2022.1)\n",
      "Requirement already satisfied: python-dateutil>=2.8.1 in c:\\users\\sihan\\anaconda3\\lib\\site-packages (from pandas>=1.2.0->pyreadstat) (2.8.2)\n",
      "Requirement already satisfied: six>=1.5 in c:\\users\\sihan\\anaconda3\\lib\\site-packages (from python-dateutil>=2.8.1->pandas>=1.2.0->pyreadstat) (1.16.0)\n"
     ]
    }
   ],
   "source": [
    "!pip install pyreadstat"
   ]
  },
  {
   "cell_type": "code",
   "execution_count": 8,
   "id": "3c65339f-807b-426f-95ed-089fe8d9587c",
   "metadata": {},
   "outputs": [],
   "source": [
    "import pyreadstat"
   ]
  },
  {
   "cell_type": "code",
   "execution_count": 9,
   "id": "00083d8c-950a-46e5-adcd-034337d45a92",
   "metadata": {},
   "outputs": [],
   "source": [
    "df, meta = pyreadstat.read_sav('Birthweight_reduced_kg_SPSS.sav') \n",
    "#meta is the way of giving data to the dataframe through pyreadstat"
   ]
  },
  {
   "cell_type": "code",
   "execution_count": 10,
   "id": "8a8613f4-a31c-4f8d-9333-707360915f96",
   "metadata": {},
   "outputs": [
    {
     "data": {
      "text/html": [
       "<div>\n",
       "<style scoped>\n",
       "    .dataframe tbody tr th:only-of-type {\n",
       "        vertical-align: middle;\n",
       "    }\n",
       "\n",
       "    .dataframe tbody tr th {\n",
       "        vertical-align: top;\n",
       "    }\n",
       "\n",
       "    .dataframe thead th {\n",
       "        text-align: right;\n",
       "    }\n",
       "</style>\n",
       "<table border=\"1\" class=\"dataframe\">\n",
       "  <thead>\n",
       "    <tr style=\"text-align: right;\">\n",
       "      <th></th>\n",
       "      <th>ID</th>\n",
       "      <th>Headcirc</th>\n",
       "      <th>Length</th>\n",
       "      <th>Birthweight</th>\n",
       "      <th>Gestation</th>\n",
       "      <th>mage</th>\n",
       "      <th>smoker</th>\n",
       "      <th>mheight</th>\n",
       "      <th>mppwt</th>\n",
       "      <th>fage</th>\n",
       "      <th>fedyrs</th>\n",
       "      <th>fnocig</th>\n",
       "      <th>fheight</th>\n",
       "      <th>lowbwt</th>\n",
       "      <th>mage35</th>\n",
       "      <th>mnocig</th>\n",
       "    </tr>\n",
       "  </thead>\n",
       "  <tbody>\n",
       "    <tr>\n",
       "      <th>0</th>\n",
       "      <td>1360.0</td>\n",
       "      <td>34.0</td>\n",
       "      <td>56.0</td>\n",
       "      <td>4.55</td>\n",
       "      <td>44.0</td>\n",
       "      <td>20.0</td>\n",
       "      <td>0.0</td>\n",
       "      <td>162.0</td>\n",
       "      <td>57.0</td>\n",
       "      <td>23.0</td>\n",
       "      <td>10.0</td>\n",
       "      <td>35.0</td>\n",
       "      <td>179.0</td>\n",
       "      <td>0.0</td>\n",
       "      <td>0.0</td>\n",
       "      <td>0.0</td>\n",
       "    </tr>\n",
       "    <tr>\n",
       "      <th>1</th>\n",
       "      <td>1016.0</td>\n",
       "      <td>36.0</td>\n",
       "      <td>53.0</td>\n",
       "      <td>4.32</td>\n",
       "      <td>40.0</td>\n",
       "      <td>19.0</td>\n",
       "      <td>0.0</td>\n",
       "      <td>171.0</td>\n",
       "      <td>62.0</td>\n",
       "      <td>19.0</td>\n",
       "      <td>12.0</td>\n",
       "      <td>0.0</td>\n",
       "      <td>183.0</td>\n",
       "      <td>0.0</td>\n",
       "      <td>0.0</td>\n",
       "      <td>0.0</td>\n",
       "    </tr>\n",
       "    <tr>\n",
       "      <th>2</th>\n",
       "      <td>462.0</td>\n",
       "      <td>39.0</td>\n",
       "      <td>58.0</td>\n",
       "      <td>4.10</td>\n",
       "      <td>41.0</td>\n",
       "      <td>35.0</td>\n",
       "      <td>0.0</td>\n",
       "      <td>172.0</td>\n",
       "      <td>58.0</td>\n",
       "      <td>31.0</td>\n",
       "      <td>16.0</td>\n",
       "      <td>25.0</td>\n",
       "      <td>185.0</td>\n",
       "      <td>0.0</td>\n",
       "      <td>1.0</td>\n",
       "      <td>0.0</td>\n",
       "    </tr>\n",
       "    <tr>\n",
       "      <th>3</th>\n",
       "      <td>1187.0</td>\n",
       "      <td>38.0</td>\n",
       "      <td>53.0</td>\n",
       "      <td>4.07</td>\n",
       "      <td>44.0</td>\n",
       "      <td>20.0</td>\n",
       "      <td>0.0</td>\n",
       "      <td>174.0</td>\n",
       "      <td>68.0</td>\n",
       "      <td>26.0</td>\n",
       "      <td>14.0</td>\n",
       "      <td>25.0</td>\n",
       "      <td>189.0</td>\n",
       "      <td>0.0</td>\n",
       "      <td>0.0</td>\n",
       "      <td>0.0</td>\n",
       "    </tr>\n",
       "    <tr>\n",
       "      <th>4</th>\n",
       "      <td>553.0</td>\n",
       "      <td>37.0</td>\n",
       "      <td>54.0</td>\n",
       "      <td>3.94</td>\n",
       "      <td>42.0</td>\n",
       "      <td>24.0</td>\n",
       "      <td>0.0</td>\n",
       "      <td>175.0</td>\n",
       "      <td>66.0</td>\n",
       "      <td>30.0</td>\n",
       "      <td>12.0</td>\n",
       "      <td>0.0</td>\n",
       "      <td>184.0</td>\n",
       "      <td>0.0</td>\n",
       "      <td>0.0</td>\n",
       "      <td>0.0</td>\n",
       "    </tr>\n",
       "  </tbody>\n",
       "</table>\n",
       "</div>"
      ],
      "text/plain": [
       "       ID  Headcirc  Length  Birthweight  Gestation  mage  smoker  mheight  \\\n",
       "0  1360.0      34.0    56.0         4.55       44.0  20.0     0.0    162.0   \n",
       "1  1016.0      36.0    53.0         4.32       40.0  19.0     0.0    171.0   \n",
       "2   462.0      39.0    58.0         4.10       41.0  35.0     0.0    172.0   \n",
       "3  1187.0      38.0    53.0         4.07       44.0  20.0     0.0    174.0   \n",
       "4   553.0      37.0    54.0         3.94       42.0  24.0     0.0    175.0   \n",
       "\n",
       "   mppwt  fage  fedyrs  fnocig  fheight  lowbwt  mage35  mnocig  \n",
       "0   57.0  23.0    10.0    35.0    179.0     0.0     0.0     0.0  \n",
       "1   62.0  19.0    12.0     0.0    183.0     0.0     0.0     0.0  \n",
       "2   58.0  31.0    16.0    25.0    185.0     0.0     1.0     0.0  \n",
       "3   68.0  26.0    14.0    25.0    189.0     0.0     0.0     0.0  \n",
       "4   66.0  30.0    12.0     0.0    184.0     0.0     0.0     0.0  "
      ]
     },
     "execution_count": 10,
     "metadata": {},
     "output_type": "execute_result"
    }
   ],
   "source": [
    "df.head()"
   ]
  },
  {
   "cell_type": "markdown",
   "id": "53cd33f5-eb9b-42dc-b9a1-16a967863782",
   "metadata": {},
   "source": [
    "### Q1. What is the mean father’s age?\n",
    "\n",
    "round(df['fage'].mean(),2)"
   ]
  },
  {
   "cell_type": "markdown",
   "id": "15e36c8d-30a7-4a8b-99ef-86b2fcbfc4fd",
   "metadata": {},
   "source": [
    "### Q2. What is the mean father’s age for low birthweight babies?"
   ]
  },
  {
   "cell_type": "code",
   "execution_count": 23,
   "id": "fb196458-3508-4c8d-bac3-e920e6a76f41",
   "metadata": {},
   "outputs": [
    {
     "data": {
      "text/plain": [
       "3.3128571428571427"
      ]
     },
     "execution_count": 23,
     "metadata": {},
     "output_type": "execute_result"
    }
   ],
   "source": [
    "low_birthweight=df['Birthweight'].mean()\n",
    "low_birthweight"
   ]
  },
  {
   "cell_type": "code",
   "execution_count": 27,
   "id": "b51a7cb6-0349-470a-985c-efcddd53ec8d",
   "metadata": {},
   "outputs": [
    {
     "data": {
      "text/plain": [
       "27.71"
      ]
     },
     "execution_count": 27,
     "metadata": {},
     "output_type": "execute_result"
    }
   ],
   "source": [
    "fage_for_lbw_babies=df.loc[df['Birthweight'] < low_birthweight, 'fage'].mean()\n",
    "round(fage_for_lbw_babies,2)"
   ]
  },
  {
   "cell_type": "markdown",
   "id": "a767cc62-7ef5-430d-acad-1f8118d36077",
   "metadata": {},
   "source": [
    "### Q3. Is the father's age normally distributed? Justify your answer."
   ]
  },
  {
   "cell_type": "code",
   "execution_count": 28,
   "id": "09f6c6fe-8644-453d-9d88-39a7c91577ce",
   "metadata": {},
   "outputs": [],
   "source": [
    "from matplotlib import pyplot"
   ]
  },
  {
   "cell_type": "code",
   "execution_count": 31,
   "id": "d283bf4a-e79e-4587-a40f-53ba4a8e32f1",
   "metadata": {},
   "outputs": [
    {
     "data": {
      "text/plain": [
       "(array([ 6.,  9.,  5.,  1., 11.,  1.,  3.,  4.,  1.,  1.]),\n",
       " array([19. , 21.7, 24.4, 27.1, 29.8, 32.5, 35.2, 37.9, 40.6, 43.3, 46. ]),\n",
       " <BarContainer object of 10 artists>)"
      ]
     },
     "execution_count": 31,
     "metadata": {},
     "output_type": "execute_result"
    },
    {
     "data": {
      "image/png": "[encoded data removed]",
      "text/plain": [
       "<Figure size 432x288 with 1 Axes>"
      ]
     },
     "metadata": {
      "needs_background": "light"
     },
     "output_type": "display_data"
    }
   ],
   "source": [
    "pyplot.hist(df['fage'])"
   ]
  },
  {
   "cell_type": "code",
   "execution_count": 35,
   "id": "072be93d-c255-4d20-ae58-86514d3252be",
   "metadata": {},
   "outputs": [
    {
     "name": "stdout",
     "output_type": "stream",
     "text": [
      "statistics=0.944, p=0.038\n",
      "column is not normally distributed\n"
     ]
    }
   ],
   "source": [
    "#we want to do the shapiro wilk test\n",
    "\n",
    "from scipy.stats import shapiro\n",
    "stat, p = shapiro(df['fage'])\n",
    "\n",
    "print('statistics=%.3f, p=%.3f' % (stat, p))\n",
    "\n",
    "if p> 0.05:\n",
    "    print ('normally distributed')\n",
    "else:\n",
    "    print('column is not normally distributed')\n",
    "\n"
   ]
  },
  {
   "cell_type": "markdown",
   "id": "1b81f71f-2410-480b-ab38-54da7925a708",
   "metadata": {},
   "source": [
    "### Q4. If you apply the log transformation to the father's age, what is the mean score of the transformed variable?"
   ]
  },
  {
   "cell_type": "code",
   "execution_count": 42,
   "id": "1f17dc35-cce0-493e-88c8-9c01d2f54aa7",
   "metadata": {},
   "outputs": [
    {
     "data": {
      "text/plain": [
       "(array([ 5.,  2.,  8.,  5.,  1., 11.,  1.,  5.,  3.,  1.]),\n",
       " array([2.94443898, 3.03285922, 3.12127946, 3.2096997 , 3.29811995,\n",
       "        3.38654019, 3.47496043, 3.56338067, 3.65180091, 3.74022115,\n",
       "        3.8286414 ]),\n",
       " <BarContainer object of 10 artists>)"
      ]
     },
     "execution_count": 42,
     "metadata": {},
     "output_type": "execute_result"
    },
    {
     "data": {
      "image/png": "[encoded data removed]",
      "text/plain": [
       "<Figure size 432x288 with 1 Axes>"
      ]
     },
     "metadata": {
      "needs_background": "light"
     },
     "output_type": "display_data"
    }
   ],
   "source": [
    "import numpy as np\n",
    "data_log=np.log(df['fage'])\n",
    "pyplot.hist(data_log)"
   ]
  },
  {
   "cell_type": "code",
   "execution_count": 44,
   "id": "5e4f3215-e2eb-40d9-b8f5-e176c7e83444",
   "metadata": {},
   "outputs": [
    {
     "data": {
      "text/plain": [
       "3.3370421189026085"
      ]
     },
     "execution_count": 44,
     "metadata": {},
     "output_type": "execute_result"
    }
   ],
   "source": [
    "data_log.mean()"
   ]
  },
  {
   "cell_type": "markdown",
   "id": "891f8826-fa0c-44ee-9fa4-c8f2ecf53850",
   "metadata": {},
   "source": [
    "###Q5. Is the above mean score a good representation of the real value? Justify your answer.\n",
    "\n",
    "\n",
    "The log-transformation is widely used in biomedical and psychosocial research to deal with skewed data. This paper highlights serious problems in this classic approach for dealing with skewed data. Despite the common belief that the log transformation can decrease the variability of data and make data conform more closely to the normal distribution, this is usually not the case. Moreover, the results of standard statistical tests performed on log-transformed data are often not relevant for the original, non-transformed data.We demonstrate these problems by presenting examples that use simulated data. We conclude that if used at all, data transformations must be applied very cautiously. We recommend that in most circumstances researchers abandon these traditional methods of dealing with skewed data and, instead, use newer analytic methods that are not dependent on the distribution the data, such as generalized estimating equations (GEE).\n",
    "--dr Chenngyong Feng\n"
   ]
  },
  {
   "cell_type": "markdown",
   "id": "1da52abb-1a74-4670-aeeb-c0c2f7488261",
   "metadata": {},
   "source": [
    "### Q6. Is the new variable (log transform of father’s age) normally distributed? Justify your answer."
   ]
  },
  {
   "cell_type": "code",
   "execution_count": 47,
   "id": "88374890-e330-4022-8d7a-7cd424d6f6a7",
   "metadata": {},
   "outputs": [
    {
     "data": {
      "text/plain": [
       "ShapiroResult(statistic=0.9583315253257751, pvalue=0.12867699563503265)"
      ]
     },
     "execution_count": 47,
     "metadata": {},
     "output_type": "execute_result"
    }
   ],
   "source": [
    "from scipy.stats import shapiro\n",
    "shapiro(data_log)"
   ]
  },
  {
   "cell_type": "markdown",
   "id": "6740b900-8e4a-4399-9450-aa211524ebf1",
   "metadata": {},
   "source": [
    "yes, p value is above 0.05, so its normally distributed now"
   ]
  },
  {
   "cell_type": "markdown",
   "id": "f5bb2b69-3409-4aac-b87e-0931c5a97ffe",
   "metadata": {},
   "source": [
    "### Q7. Is the variable “years father was in education” normally distributed? "
   ]
  },
  {
   "cell_type": "code",
   "execution_count": 105,
   "id": "16eded77-76ae-4ca7-be52-fa569c426511",
   "metadata": {},
   "outputs": [
    {
     "data": {
      "text/plain": [
       "4.483600059757009e-05"
      ]
     },
     "execution_count": 105,
     "metadata": {},
     "output_type": "execute_result"
    }
   ],
   "source": [
    "from scipy.stats import shapiro\n",
    "stat, p=shapiro(df['fedyrs'])\n",
    "p\n"
   ]
  },
  {
   "cell_type": "code",
   "execution_count": 56,
   "id": "ca20959a-b12b-4565-a3b1-efc9c6ceb0a2",
   "metadata": {},
   "outputs": [
    {
     "data": {
      "text/plain": [
       "(array([ 6.,  0.,  0., 10.,  0.,  0., 11.,  0.,  0., 15.]),\n",
       " array([10. , 10.6, 11.2, 11.8, 12.4, 13. , 13.6, 14.2, 14.8, 15.4, 16. ]),\n",
       " <BarContainer object of 10 artists>)"
      ]
     },
     "execution_count": 56,
     "metadata": {},
     "output_type": "execute_result"
    },
    {
     "data": {
      "image/png": "[encoded data removed]",
      "text/plain": [
       "<Figure size 432x288 with 1 Axes>"
      ]
     },
     "metadata": {
      "needs_background": "light"
     },
     "output_type": "display_data"
    }
   ],
   "source": [
    "pyplot.hist(df['fedyrs'])"
   ]
  },
  {
   "cell_type": "markdown",
   "id": "7f119a79-1d01-407d-9806-811ea83a5435",
   "metadata": {},
   "source": [
    "No, not normally distributed"
   ]
  },
  {
   "cell_type": "markdown",
   "id": "82eff6e8-790b-41fd-8c5a-73e4edd0caaa",
   "metadata": {},
   "source": [
    "Our distribution was not normally distributed.  Our p value is less than 0.05. Therefore, we reject the null hypothesis which was that the dataset is statistically significant. "
   ]
  },
  {
   "cell_type": "markdown",
   "id": "8f3e35ba-c0eb-444e-8271-c6556a9eea89",
   "metadata": {},
   "source": [
    "### Q9. What is the mean score for the variable “years father was in education” after you apply the Box-Cox transformation?"
   ]
  },
  {
   "cell_type": "code",
   "execution_count": 141,
   "id": "564ceae2-5bdd-4eab-84d4-056378d357b8",
   "metadata": {},
   "outputs": [],
   "source": [
    "from scipy import stats\n",
    "fitted_data, fitted_lambda =stats.boxcox(df['fedyrs'])\n",
    "fitted_data.mean()\n",
    "df['fitted_data']=fitted_data\n"
   ]
  },
  {
   "cell_type": "code",
   "execution_count": 134,
   "id": "1b43e25d-d2e4-42a3-a1b3-9619d6117539",
   "metadata": {},
   "outputs": [],
   "source": [
    "stat, p = shapiro(fitted_data)"
   ]
  },
  {
   "cell_type": "code",
   "execution_count": 147,
   "id": "df174abf-0658-47b4-ba02-6db5af1b7777",
   "metadata": {},
   "outputs": [
    {
     "name": "stdout",
     "output_type": "stream",
     "text": [
      "4.183058990747668e-05 which is equivalent of 620.8209995\n"
     ]
    }
   ],
   "source": [
    "print(f'{p} which is equivalent of 620.8209995')"
   ]
  },
  {
   "cell_type": "code",
   "execution_count": 142,
   "id": "0bb78a00-50eb-404d-ae6c-f52c24f62eb7",
   "metadata": {},
   "outputs": [
    {
     "data": {
      "text/plain": [
       "Index(['ID', 'Headcirc', 'Length', 'Birthweight', 'Gestation', 'mage',\n",
       "       'smoker', 'mheight', 'mppwt', 'fage', 'fedyrs', 'fnocig', 'fheight',\n",
       "       'lowbwt', 'mage35', 'mnocig', 'fitted_data'],\n",
       "      dtype='object')"
      ]
     },
     "execution_count": 142,
     "metadata": {},
     "output_type": "execute_result"
    }
   ],
   "source": [
    "df.columns"
   ]
  },
  {
   "cell_type": "markdown",
   "id": "efacbdff-95e1-4887-bef1-59102e5d5ac7",
   "metadata": {},
   "source": [
    "### Q11. What is the mean score for this new variable (B-C transformed fathers’ years in education) for mothers aged under 35?"
   ]
  },
  {
   "cell_type": "code",
   "execution_count": 143,
   "id": "7199a565-7e2f-485d-9774-edea463478b0",
   "metadata": {},
   "outputs": [
    {
     "data": {
      "text/plain": [
       "153.18044640735926"
      ]
     },
     "execution_count": 143,
     "metadata": {},
     "output_type": "execute_result"
    }
   ],
   "source": [
    "df.loc[df['mage'] < 35, 'fitted_data'].mean()"
   ]
  },
  {
   "cell_type": "code",
   "execution_count": null,
   "id": "1a238cc3-0d2e-4972-9285-2258a5de951a",
   "metadata": {},
   "outputs": [],
   "source": []
  }
 ],
 "metadata": {
  "kernelspec": {
   "display_name": "Python 3 (ipykernel)",
   "language": "python",
   "name": "python3"
  },
  "language_info": {
   "codemirror_mode": {
    "name": "ipython",
    "version": 3
   },
   "file_extension": ".py",
   "mimetype": "text/x-python",
   "name": "python",
   "nbconvert_exporter": "python",
   "pygments_lexer": "ipython3",
   "version": "3.9.12"
  }
 },
 "nbformat": 4,
 "nbformat_minor": 5
}
